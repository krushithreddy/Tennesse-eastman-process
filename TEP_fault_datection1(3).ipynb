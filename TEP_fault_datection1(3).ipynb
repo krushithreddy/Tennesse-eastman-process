{
 "cells": [
  {
   "cell_type": "markdown",
   "metadata": {},
   "source": [
    "# Tennesse Eastman Falut Detection"
   ]
  },
  {
   "cell_type": "markdown",
   "metadata": {},
   "source": [
    "Source: https://dataverse.harvard.edu/dataset.xhtml?persistentId=doi:10.7910/DVN/6C3JR1&version=1.0\n",
    "\n",
    "References: \n",
    "1. https://drive.google.com/file/d/0B4_tSB591fQ1dmFsN0hKbjRFcVJOdVV1QTcwMjNWWnZORGh3/view,\n",
    "2. https://drive.google.com/file/d/1K9lw_Yh6KIE3E7QT6tQeMPSveEPvO0QT/view"
   ]
  },
  {
   "cell_type": "code",
   "execution_count": 1,
   "metadata": {},
   "outputs": [],
   "source": [
    "import pandas as pd"
   ]
  },
  {
   "cell_type": "code",
   "execution_count": 2,
   "metadata": {},
   "outputs": [],
   "source": [
    "import pyreadr"
   ]
  },
  {
   "cell_type": "code",
   "execution_count": 3,
   "metadata": {},
   "outputs": [
    {
     "name": "stderr",
     "output_type": "stream",
     "text": [
      "Using TensorFlow backend.\n"
     ]
    }
   ],
   "source": [
    "from __future__ import print_function\n",
    "import keras\n",
    "from keras.models import Sequential\n",
    "from keras.layers import Dense, Dropout, Flatten\n",
    "from keras.layers import Conv1D,Conv2D, MaxPooling1D,MaxPooling2D,LSTM\n",
    "from keras import backend as K\n",
    "import pandas as pd\n",
    "from sklearn.model_selection import train_test_split"
   ]
  },
  {
   "cell_type": "code",
   "execution_count": 5,
   "metadata": {},
   "outputs": [],
   "source": [
    "Faulty_Training_r = pyreadr.read_r('TEP_Faulty_Training.RData')\n",
    "Faulty_Training = Faulty_Training_r['faulty_training']\n",
    "del Faulty_Training_r\n",
    "FaultFree_Training_r = pyreadr.read_r('TEP_FaultFree_Training.RData')\n",
    "FaultFree_Training = FaultFree_Training_r['fault_free_training']\n",
    "del FaultFree_Training_r"
   ]
  },
  {
   "cell_type": "code",
   "execution_count": 13,
   "metadata": {},
   "outputs": [],
   "source": [
    "train_df = pd.concat([FaultFree_Training, Faulty_Training])\n",
    "Y = train_df['faultNumber']\n",
    "Y_train = train_df['faultNumber']"
   ]
  },
  {
   "cell_type": "code",
   "execution_count": 14,
   "metadata": {},
   "outputs": [],
   "source": [
    "Faulty_Testing_r = pyreadr.read_r('TEP_Faulty_Testing.RData')\n",
    "Faulty_Testing = Faulty_Testing_r['faulty_testing']\n",
    "del Faulty_Testing_r\n",
    "FaultFree_Testing_r = pyreadr.read_r('TEP_FaultFree_Testing.RData')\n",
    "FaultFree_Testing = FaultFree_Testing_r['fault_free_testing']\n",
    "del FaultFree_Testing_r\n",
    "\n",
    "test_df = pd.concat([FaultFree_Testing, Faulty_Testing])\n",
    "Y_test = test_df['faultNumber']"
   ]
  },
  {
   "cell_type": "code",
   "execution_count": 15,
   "metadata": {
    "scrolled": true
   },
   "outputs": [
    {
     "name": "stdout",
     "output_type": "stream",
     "text": [
      "(5250000, 55)\n",
      "(10080000, 55)\n"
     ]
    }
   ],
   "source": [
    "print(train_df.shape)\n",
    "print(test_df.shape)"
   ]
  },
  {
   "cell_type": "code",
   "execution_count": 18,
   "metadata": {},
   "outputs": [
    {
     "data": {
      "text/html": [
       "<div>\n",
       "<style scoped>\n",
       "    .dataframe tbody tr th:only-of-type {\n",
       "        vertical-align: middle;\n",
       "    }\n",
       "\n",
       "    .dataframe tbody tr th {\n",
       "        vertical-align: top;\n",
       "    }\n",
       "\n",
       "    .dataframe thead th {\n",
       "        text-align: right;\n",
       "    }\n",
       "</style>\n",
       "<table border=\"1\" class=\"dataframe\">\n",
       "  <thead>\n",
       "    <tr style=\"text-align: right;\">\n",
       "      <th></th>\n",
       "      <th>faultNumber</th>\n",
       "      <th>simulationRun</th>\n",
       "      <th>sample</th>\n",
       "      <th>xmeas_1</th>\n",
       "      <th>xmeas_2</th>\n",
       "      <th>xmeas_3</th>\n",
       "      <th>xmeas_4</th>\n",
       "      <th>xmeas_5</th>\n",
       "      <th>xmeas_6</th>\n",
       "      <th>xmeas_7</th>\n",
       "      <th>...</th>\n",
       "      <th>xmv_2</th>\n",
       "      <th>xmv_3</th>\n",
       "      <th>xmv_4</th>\n",
       "      <th>xmv_5</th>\n",
       "      <th>xmv_6</th>\n",
       "      <th>xmv_7</th>\n",
       "      <th>xmv_8</th>\n",
       "      <th>xmv_9</th>\n",
       "      <th>xmv_10</th>\n",
       "      <th>xmv_11</th>\n",
       "    </tr>\n",
       "  </thead>\n",
       "  <tbody>\n",
       "    <tr>\n",
       "      <th>0</th>\n",
       "      <td>0.0</td>\n",
       "      <td>1.0</td>\n",
       "      <td>1</td>\n",
       "      <td>0.25038</td>\n",
       "      <td>3674.0</td>\n",
       "      <td>4529.0</td>\n",
       "      <td>9.2320</td>\n",
       "      <td>26.889</td>\n",
       "      <td>42.402</td>\n",
       "      <td>2704.3</td>\n",
       "      <td>...</td>\n",
       "      <td>53.744</td>\n",
       "      <td>24.657</td>\n",
       "      <td>62.544</td>\n",
       "      <td>22.137</td>\n",
       "      <td>39.935</td>\n",
       "      <td>42.323</td>\n",
       "      <td>47.757</td>\n",
       "      <td>47.510</td>\n",
       "      <td>41.258</td>\n",
       "      <td>18.447</td>\n",
       "    </tr>\n",
       "    <tr>\n",
       "      <th>1</th>\n",
       "      <td>0.0</td>\n",
       "      <td>1.0</td>\n",
       "      <td>2</td>\n",
       "      <td>0.25109</td>\n",
       "      <td>3659.4</td>\n",
       "      <td>4556.6</td>\n",
       "      <td>9.4264</td>\n",
       "      <td>26.721</td>\n",
       "      <td>42.576</td>\n",
       "      <td>2705.0</td>\n",
       "      <td>...</td>\n",
       "      <td>53.414</td>\n",
       "      <td>24.588</td>\n",
       "      <td>59.259</td>\n",
       "      <td>22.084</td>\n",
       "      <td>40.176</td>\n",
       "      <td>38.554</td>\n",
       "      <td>43.692</td>\n",
       "      <td>47.427</td>\n",
       "      <td>41.359</td>\n",
       "      <td>17.194</td>\n",
       "    </tr>\n",
       "    <tr>\n",
       "      <th>2</th>\n",
       "      <td>0.0</td>\n",
       "      <td>1.0</td>\n",
       "      <td>3</td>\n",
       "      <td>0.25038</td>\n",
       "      <td>3660.3</td>\n",
       "      <td>4477.8</td>\n",
       "      <td>9.4426</td>\n",
       "      <td>26.875</td>\n",
       "      <td>42.070</td>\n",
       "      <td>2706.2</td>\n",
       "      <td>...</td>\n",
       "      <td>54.357</td>\n",
       "      <td>24.666</td>\n",
       "      <td>61.275</td>\n",
       "      <td>22.380</td>\n",
       "      <td>40.244</td>\n",
       "      <td>38.990</td>\n",
       "      <td>46.699</td>\n",
       "      <td>47.468</td>\n",
       "      <td>41.199</td>\n",
       "      <td>20.530</td>\n",
       "    </tr>\n",
       "    <tr>\n",
       "      <th>3</th>\n",
       "      <td>0.0</td>\n",
       "      <td>1.0</td>\n",
       "      <td>4</td>\n",
       "      <td>0.24977</td>\n",
       "      <td>3661.3</td>\n",
       "      <td>4512.1</td>\n",
       "      <td>9.4776</td>\n",
       "      <td>26.758</td>\n",
       "      <td>42.063</td>\n",
       "      <td>2707.2</td>\n",
       "      <td>...</td>\n",
       "      <td>53.946</td>\n",
       "      <td>24.725</td>\n",
       "      <td>59.856</td>\n",
       "      <td>22.277</td>\n",
       "      <td>40.257</td>\n",
       "      <td>38.072</td>\n",
       "      <td>47.541</td>\n",
       "      <td>47.658</td>\n",
       "      <td>41.643</td>\n",
       "      <td>18.089</td>\n",
       "    </tr>\n",
       "    <tr>\n",
       "      <th>4</th>\n",
       "      <td>0.0</td>\n",
       "      <td>1.0</td>\n",
       "      <td>5</td>\n",
       "      <td>0.29405</td>\n",
       "      <td>3679.0</td>\n",
       "      <td>4497.0</td>\n",
       "      <td>9.3381</td>\n",
       "      <td>26.889</td>\n",
       "      <td>42.650</td>\n",
       "      <td>2705.1</td>\n",
       "      <td>...</td>\n",
       "      <td>53.658</td>\n",
       "      <td>28.797</td>\n",
       "      <td>60.717</td>\n",
       "      <td>21.947</td>\n",
       "      <td>39.144</td>\n",
       "      <td>41.955</td>\n",
       "      <td>47.645</td>\n",
       "      <td>47.346</td>\n",
       "      <td>41.507</td>\n",
       "      <td>18.461</td>\n",
       "    </tr>\n",
       "  </tbody>\n",
       "</table>\n",
       "<p>5 rows × 55 columns</p>\n",
       "</div>"
      ],
      "text/plain": [
       "   faultNumber  simulationRun  sample  xmeas_1  xmeas_2  xmeas_3  xmeas_4  \\\n",
       "0          0.0            1.0       1  0.25038   3674.0   4529.0   9.2320   \n",
       "1          0.0            1.0       2  0.25109   3659.4   4556.6   9.4264   \n",
       "2          0.0            1.0       3  0.25038   3660.3   4477.8   9.4426   \n",
       "3          0.0            1.0       4  0.24977   3661.3   4512.1   9.4776   \n",
       "4          0.0            1.0       5  0.29405   3679.0   4497.0   9.3381   \n",
       "\n",
       "   xmeas_5  xmeas_6  xmeas_7  ...   xmv_2   xmv_3   xmv_4   xmv_5   xmv_6  \\\n",
       "0   26.889   42.402   2704.3  ...  53.744  24.657  62.544  22.137  39.935   \n",
       "1   26.721   42.576   2705.0  ...  53.414  24.588  59.259  22.084  40.176   \n",
       "2   26.875   42.070   2706.2  ...  54.357  24.666  61.275  22.380  40.244   \n",
       "3   26.758   42.063   2707.2  ...  53.946  24.725  59.856  22.277  40.257   \n",
       "4   26.889   42.650   2705.1  ...  53.658  28.797  60.717  21.947  39.144   \n",
       "\n",
       "    xmv_7   xmv_8   xmv_9  xmv_10  xmv_11  \n",
       "0  42.323  47.757  47.510  41.258  18.447  \n",
       "1  38.554  43.692  47.427  41.359  17.194  \n",
       "2  38.990  46.699  47.468  41.199  20.530  \n",
       "3  38.072  47.541  47.658  41.643  18.089  \n",
       "4  41.955  47.645  47.346  41.507  18.461  \n",
       "\n",
       "[5 rows x 55 columns]"
      ]
     },
     "execution_count": 18,
     "metadata": {},
     "output_type": "execute_result"
    }
   ],
   "source": [
    "train_df.head()"
   ]
  },
  {
   "cell_type": "code",
   "execution_count": 9,
   "metadata": {},
   "outputs": [
    {
     "data": {
      "text/plain": [
       "1.0     250000\n",
       "10.0    250000\n",
       "2.0     250000\n",
       "3.0     250000\n",
       "4.0     250000\n",
       "5.0     250000\n",
       "6.0     250000\n",
       "7.0     250000\n",
       "8.0     250000\n",
       "9.0     250000\n",
       "11.0    250000\n",
       "20.0    250000\n",
       "12.0    250000\n",
       "13.0    250000\n",
       "14.0    250000\n",
       "15.0    250000\n",
       "16.0    250000\n",
       "17.0    250000\n",
       "18.0    250000\n",
       "19.0    250000\n",
       "0.0     250000\n",
       "Name: faultNumber, dtype: int64"
      ]
     },
     "execution_count": 9,
     "metadata": {},
     "output_type": "execute_result"
    }
   ],
   "source": [
    "Y_train.value_counts()"
   ]
  },
  {
   "cell_type": "code",
   "execution_count": 19,
   "metadata": {},
   "outputs": [
    {
     "data": {
      "text/plain": [
       "20    480000\n",
       "9     480000\n",
       "1     480000\n",
       "2     480000\n",
       "3     480000\n",
       "4     480000\n",
       "5     480000\n",
       "6     480000\n",
       "7     480000\n",
       "8     480000\n",
       "10    480000\n",
       "19    480000\n",
       "11    480000\n",
       "12    480000\n",
       "13    480000\n",
       "14    480000\n",
       "15    480000\n",
       "16    480000\n",
       "17    480000\n",
       "18    480000\n",
       "0     480000\n",
       "Name: faultNumber, dtype: int64"
      ]
     },
     "execution_count": 19,
     "metadata": {},
     "output_type": "execute_result"
    }
   ],
   "source": [
    "Y_test.value_counts()"
   ]
  },
  {
   "cell_type": "code",
   "execution_count": 26,
   "metadata": {},
   "outputs": [],
   "source": [
    "#lst = [i for i in range(273000000)]"
   ]
  },
  {
   "cell_type": "code",
   "execution_count": 27,
   "metadata": {},
   "outputs": [],
   "source": [
    "#import numpy as np\n",
    "#lst = np.array(lst)"
   ]
  },
  {
   "cell_type": "code",
   "execution_count": 32,
   "metadata": {},
   "outputs": [
    {
     "data": {
      "text/plain": [
       "array([ 52,  53,  54,  55,  56,  57,  58,  59,  60,  61,  62,  63,  64,\n",
       "        65,  66,  67,  68,  69,  70,  71,  72,  73,  74,  75,  76,  77,\n",
       "        78,  79,  80,  81,  82,  83,  84,  85,  86,  87,  88,  89,  90,\n",
       "        91,  92,  93,  94,  95,  96,  97,  98,  99, 100, 101, 102, 103])"
      ]
     },
     "execution_count": 32,
     "metadata": {},
     "output_type": "execute_result"
    }
   ],
   "source": [
    "#lst = lst.reshape(262500,20,52)\n",
    "#lst[0][1]"
   ]
  },
  {
   "cell_type": "code",
   "execution_count": 20,
   "metadata": {},
   "outputs": [],
   "source": [
    "train_df = train_df.drop(columns=['faultNumber','simulationRun','sample'])"
   ]
  },
  {
   "cell_type": "code",
   "execution_count": 21,
   "metadata": {},
   "outputs": [],
   "source": [
    "test_df = test_df.drop(columns=['faultNumber','simulationRun','sample'])"
   ]
  },
  {
   "cell_type": "code",
   "execution_count": 23,
   "metadata": {},
   "outputs": [],
   "source": [
    "#sampling every 20th interval\n",
    "y_train_lst = []\n",
    "for i in range(0,Y_train.shape[0],20):\n",
    "    y_train_lst.append(Y_train.iloc[i])"
   ]
  },
  {
   "cell_type": "code",
   "execution_count": 25,
   "metadata": {},
   "outputs": [],
   "source": [
    "y_test_lst = []\n",
    "for i in range(0,Y_test.shape[0],20):\n",
    "    y_test_lst.append(Y_test.iloc[i])"
   ]
  },
  {
   "cell_type": "code",
   "execution_count": 26,
   "metadata": {},
   "outputs": [],
   "source": [
    "y_train = keras.utils.to_categorical(y_train_lst)\n",
    "y_test = keras.utils.to_categorical(y_test_lst)"
   ]
  },
  {
   "cell_type": "code",
   "execution_count": 28,
   "metadata": {},
   "outputs": [],
   "source": [
    "from sklearn import preprocessing\n",
    "scaler = preprocessing.StandardScaler().fit(train_df)\n",
    "x_train = scaler.transform(train_df)\n",
    "x_test = scaler.transform(test_df)"
   ]
  },
  {
   "cell_type": "code",
   "execution_count": 29,
   "metadata": {},
   "outputs": [],
   "source": [
    "import numpy as np\n",
    "x_train = np.array(x_train)\n",
    "x_test = np.array(x_test)"
   ]
  },
  {
   "cell_type": "code",
   "execution_count": 31,
   "metadata": {},
   "outputs": [],
   "source": [
    "#Reshaping the array such that for every 20th interavel the data mathes with y_labels  \n",
    "x_train = x_train.reshape(int(x_train.shape[0]/20),20,52)\n",
    "x_test = x_test.reshape(int(x_test.shape[0]/20),20,52)"
   ]
  },
  {
   "cell_type": "code",
   "execution_count": 28,
   "metadata": {},
   "outputs": [
    {
     "name": "stdout",
     "output_type": "stream",
     "text": [
      "_________________________________________________________________\n",
      "Layer (type)                 Output Shape              Param #   \n",
      "=================================================================\n",
      "lstm_16 (LSTM)               (None, 20, 128)           92672     \n",
      "_________________________________________________________________\n",
      "dropout_12 (Dropout)         (None, 20, 128)           0         \n",
      "_________________________________________________________________\n",
      "lstm_17 (LSTM)               (None, 20, 128)           131584    \n",
      "_________________________________________________________________\n",
      "dropout_13 (Dropout)         (None, 20, 128)           0         \n",
      "_________________________________________________________________\n",
      "lstm_18 (LSTM)               (None, 20, 128)           131584    \n",
      "_________________________________________________________________\n",
      "dropout_14 (Dropout)         (None, 20, 128)           0         \n",
      "_________________________________________________________________\n",
      "lstm_19 (LSTM)               (None, 20, 128)           131584    \n",
      "_________________________________________________________________\n",
      "dropout_15 (Dropout)         (None, 20, 128)           0         \n",
      "_________________________________________________________________\n",
      "lstm_20 (LSTM)               (None, 128)               131584    \n",
      "_________________________________________________________________\n",
      "dense_6 (Dense)              (None, 21)                2709      \n",
      "=================================================================\n",
      "Total params: 621,717\n",
      "Trainable params: 621,717\n",
      "Non-trainable params: 0\n",
      "_________________________________________________________________\n"
     ]
    }
   ],
   "source": [
    "model = Sequential()\n",
    "# Configuring the parameters\n",
    "model.add(LSTM(128,return_sequences=True, input_shape=(20,52)))\n",
    "# Adding a dropout layer\n",
    "model.add(Dropout(0.55))\n",
    "\n",
    "model.add(LSTM(128,return_sequences=True))\n",
    "model.add(Dropout(0.55))\n",
    "model.add(LSTM(128,return_sequences=True))\n",
    "model.add(Dropout(0.55))\n",
    "model.add(LSTM(128,return_sequences=True))\n",
    "model.add(Dropout(0.55))\n",
    "model.add(LSTM(128))\n",
    "\n",
    "model.add(Dense(21, activation='softmax'))\n",
    "model.summary()"
   ]
  },
  {
   "cell_type": "code",
   "execution_count": 29,
   "metadata": {},
   "outputs": [
    {
     "name": "stdout",
     "output_type": "stream",
     "text": [
      "Train on 262500 samples, validate on 504000 samples\n",
      "Epoch 1/50\n",
      "262500/262500 [==============================] - 157s 597us/step - loss: 0.9260 - acc: 0.6913 - val_loss: 1.1235 - val_acc: 0.7150\n",
      "Epoch 2/50\n",
      "262500/262500 [==============================] - 153s 582us/step - loss: 0.4971 - acc: 0.8252 - val_loss: 1.1124 - val_acc: 0.7339\n",
      "Epoch 3/50\n",
      "262500/262500 [==============================] - 151s 575us/step - loss: 0.4299 - acc: 0.8466 - val_loss: 1.0678 - val_acc: 0.7528\n",
      "Epoch 4/50\n",
      "262500/262500 [==============================] - 152s 580us/step - loss: 0.3969 - acc: 0.8568 - val_loss: 1.1258 - val_acc: 0.7623\n",
      "Epoch 5/50\n",
      "262500/262500 [==============================] - 151s 576us/step - loss: 0.3742 - acc: 0.8649 - val_loss: 1.1463 - val_acc: 0.7676\n",
      "Epoch 6/50\n",
      "262500/262500 [==============================] - 153s 583us/step - loss: 0.3607 - acc: 0.8694 - val_loss: 1.1383 - val_acc: 0.7654\n",
      "Epoch 7/50\n",
      "262500/262500 [==============================] - 151s 574us/step - loss: 0.3550 - acc: 0.8721 - val_loss: 1.1083 - val_acc: 0.7704\n",
      "Epoch 8/50\n",
      "262500/262500 [==============================] - 152s 580us/step - loss: 0.3455 - acc: 0.8753 - val_loss: 1.2066 - val_acc: 0.7714\n",
      "Epoch 9/50\n",
      "262500/262500 [==============================] - 151s 575us/step - loss: 0.3415 - acc: 0.8761 - val_loss: 1.1466 - val_acc: 0.7728\n",
      "Epoch 10/50\n",
      "262500/262500 [==============================] - 152s 580us/step - loss: 0.3351 - acc: 0.8786 - val_loss: 1.1816 - val_acc: 0.7732\n",
      "Epoch 11/50\n",
      "262500/262500 [==============================] - 151s 575us/step - loss: 0.3319 - acc: 0.8800 - val_loss: 1.1894 - val_acc: 0.7742\n",
      "Epoch 12/50\n",
      "262500/262500 [==============================] - 153s 581us/step - loss: 0.3288 - acc: 0.8808 - val_loss: 1.2059 - val_acc: 0.7768\n",
      "Epoch 13/50\n",
      "262500/262500 [==============================] - 151s 574us/step - loss: 0.3272 - acc: 0.8812 - val_loss: 1.2317 - val_acc: 0.7769\n",
      "Epoch 14/50\n",
      "262500/262500 [==============================] - 152s 581us/step - loss: 0.3215 - acc: 0.8838 - val_loss: 1.2981 - val_acc: 0.7785\n",
      "Epoch 15/50\n",
      "262500/262500 [==============================] - 151s 574us/step - loss: 0.3199 - acc: 0.8839 - val_loss: 1.2852 - val_acc: 0.7790\n",
      "Epoch 16/50\n",
      "262500/262500 [==============================] - 152s 580us/step - loss: 0.3184 - acc: 0.8847 - val_loss: 1.2991 - val_acc: 0.7790\n",
      "Epoch 17/50\n",
      "262500/262500 [==============================] - 151s 575us/step - loss: 0.3158 - acc: 0.8849 - val_loss: 1.2532 - val_acc: 0.7795\n",
      "Epoch 18/50\n",
      "262500/262500 [==============================] - 153s 581us/step - loss: 0.3148 - acc: 0.8857 - val_loss: 1.2931 - val_acc: 0.7814\n",
      "Epoch 19/50\n",
      "262500/262500 [==============================] - 151s 574us/step - loss: 0.3131 - acc: 0.8860 - val_loss: 1.2429 - val_acc: 0.7813\n",
      "Epoch 20/50\n",
      "262500/262500 [==============================] - 152s 579us/step - loss: 0.3117 - acc: 0.8868 - val_loss: 1.2884 - val_acc: 0.7810\n",
      "Epoch 21/50\n",
      "262500/262500 [==============================] - 151s 576us/step - loss: 0.3075 - acc: 0.8878 - val_loss: 1.2799 - val_acc: 0.7794\n",
      "Epoch 22/50\n",
      "262500/262500 [==============================] - 151s 576us/step - loss: 0.3075 - acc: 0.8878 - val_loss: 1.3571 - val_acc: 0.7782\n",
      "Epoch 23/50\n",
      "262500/262500 [==============================] - 152s 580us/step - loss: 0.3047 - acc: 0.8896 - val_loss: 1.2972 - val_acc: 0.7820\n",
      "Epoch 24/50\n",
      "262500/262500 [==============================] - 151s 577us/step - loss: 0.3050 - acc: 0.8885 - val_loss: 1.3238 - val_acc: 0.7795\n",
      "Epoch 25/50\n",
      "262500/262500 [==============================] - 152s 578us/step - loss: 0.3037 - acc: 0.8891 - val_loss: 1.3122 - val_acc: 0.7825\n",
      "Epoch 26/50\n",
      "262500/262500 [==============================] - 152s 579us/step - loss: 0.2991 - acc: 0.8908 - val_loss: 1.3560 - val_acc: 0.7823\n",
      "Epoch 27/50\n",
      "262500/262500 [==============================] - 151s 577us/step - loss: 0.2985 - acc: 0.8910 - val_loss: 1.3313 - val_acc: 0.7813\n",
      "Epoch 28/50\n",
      "262500/262500 [==============================] - 151s 576us/step - loss: 0.2993 - acc: 0.8904 - val_loss: 1.4077 - val_acc: 0.7804\n",
      "Epoch 29/50\n",
      "262500/262500 [==============================] - 151s 576us/step - loss: 0.2978 - acc: 0.8914 - val_loss: 1.3831 - val_acc: 0.7798\n",
      "Epoch 30/50\n",
      "262500/262500 [==============================] - 152s 578us/step - loss: 0.2988 - acc: 0.8909 - val_loss: 1.3663 - val_acc: 0.7815\n",
      "Epoch 31/50\n",
      "262500/262500 [==============================] - 152s 580us/step - loss: 0.2933 - acc: 0.8934 - val_loss: 1.3422 - val_acc: 0.7823\n",
      "Epoch 32/50\n",
      "262500/262500 [==============================] - 151s 575us/step - loss: 0.2931 - acc: 0.8927 - val_loss: 1.4012 - val_acc: 0.7820\n",
      "Epoch 33/50\n",
      "262500/262500 [==============================] - 152s 578us/step - loss: 0.2928 - acc: 0.8930 - val_loss: 1.4160 - val_acc: 0.7839\n",
      "Epoch 34/50\n",
      "262500/262500 [==============================] - 151s 576us/step - loss: 0.2914 - acc: 0.8938 - val_loss: 1.4174 - val_acc: 0.7811\n",
      "Epoch 35/50\n",
      "262500/262500 [==============================] - 151s 574us/step - loss: 0.2905 - acc: 0.8938 - val_loss: 1.4263 - val_acc: 0.7826\n",
      "Epoch 36/50\n",
      "262500/262500 [==============================] - 151s 574us/step - loss: 0.2897 - acc: 0.8940 - val_loss: 1.4100 - val_acc: 0.7831\n",
      "Epoch 37/50\n",
      "262500/262500 [==============================] - 152s 578us/step - loss: 0.2894 - acc: 0.8941 - val_loss: 1.4161 - val_acc: 0.7820\n",
      "Epoch 38/50\n",
      "262500/262500 [==============================] - 151s 577us/step - loss: 0.2871 - acc: 0.8950 - val_loss: 1.4417 - val_acc: 0.7814\n",
      "Epoch 39/50\n",
      "262500/262500 [==============================] - 151s 577us/step - loss: 0.2877 - acc: 0.8951 - val_loss: 1.4505 - val_acc: 0.7817\n",
      "Epoch 40/50\n",
      "262500/262500 [==============================] - 151s 574us/step - loss: 0.2849 - acc: 0.8957 - val_loss: 1.4285 - val_acc: 0.7807\n",
      "Epoch 41/50\n",
      "262500/262500 [==============================] - 152s 579us/step - loss: 0.2832 - acc: 0.8967 - val_loss: 1.4999 - val_acc: 0.7838\n",
      "Epoch 42/50\n",
      "262500/262500 [==============================] - 151s 575us/step - loss: 0.2820 - acc: 0.8969 - val_loss: 1.4692 - val_acc: 0.7801\n",
      "Epoch 43/50\n",
      "262500/262500 [==============================] - 152s 578us/step - loss: 0.2827 - acc: 0.8964 - val_loss: 1.4735 - val_acc: 0.7823\n",
      "Epoch 44/50\n",
      "262500/262500 [==============================] - 151s 577us/step - loss: 0.2802 - acc: 0.8969 - val_loss: 1.4065 - val_acc: 0.7821\n",
      "Epoch 45/50\n",
      "262500/262500 [==============================] - 152s 581us/step - loss: 0.2787 - acc: 0.8974 - val_loss: 1.4824 - val_acc: 0.7817\n",
      "Epoch 46/50\n",
      "262500/262500 [==============================] - 151s 577us/step - loss: 0.2788 - acc: 0.8975 - val_loss: 1.5302 - val_acc: 0.7818\n",
      "Epoch 47/50\n",
      "262500/262500 [==============================] - 153s 582us/step - loss: 0.2795 - acc: 0.8976 - val_loss: 1.4650 - val_acc: 0.7808\n",
      "Epoch 48/50\n",
      "262500/262500 [==============================] - 152s 577us/step - loss: 0.2768 - acc: 0.8986 - val_loss: 1.4953 - val_acc: 0.7812\n",
      "Epoch 49/50\n",
      "262500/262500 [==============================] - 152s 579us/step - loss: 0.2755 - acc: 0.8989 - val_loss: 1.5171 - val_acc: 0.7801\n",
      "Epoch 50/50\n",
      "262500/262500 [==============================] - 152s 577us/step - loss: 0.2743 - acc: 0.8992 - val_loss: 1.4626 - val_acc: 0.7819\n"
     ]
    }
   ],
   "source": [
    "model.compile(loss=keras.losses.categorical_crossentropy,optimizer=keras.optimizers.Adam(),metrics=['accuracy'])\n",
    "\n",
    "history = model.fit(x_train, y_train,batch_size=500,epochs=50,validation_data=(x_test, y_test))"
   ]
  },
  {
   "cell_type": "code",
   "execution_count": 32,
   "metadata": {},
   "outputs": [],
   "source": [
    "#returns the boolean value True if the predicted point is having the >0.5\n",
    "pred = model.predict(x_test)\n",
    "pred = pred > 0.5"
   ]
  },
  {
   "cell_type": "code",
   "execution_count": 33,
   "metadata": {},
   "outputs": [
    {
     "name": "stdout",
     "output_type": "stream",
     "text": [
      "FDR: 0.7666269841269842\n"
     ]
    }
   ],
   "source": [
    "#FDR is fault detection rate which is same as recall\n",
    "from sklearn.metrics import recall_score \n",
    "print('FDR:',recall_score(y_test,pred,average='weighted'))"
   ]
  }
 ],
 "metadata": {
  "kernelspec": {
   "display_name": "Python 3",
   "language": "python",
   "name": "python3"
  },
  "language_info": {
   "codemirror_mode": {
    "name": "ipython",
    "version": 3
   },
   "file_extension": ".py",
   "mimetype": "text/x-python",
   "name": "python",
   "nbconvert_exporter": "python",
   "pygments_lexer": "ipython3",
   "version": "3.5.3"
  }
 },
 "nbformat": 4,
 "nbformat_minor": 2
}
